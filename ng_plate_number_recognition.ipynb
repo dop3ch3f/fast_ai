{
 "cells": [
  {
   "cell_type": "code",
   "execution_count": null,
   "id": "initial_id",
   "metadata": {
    "collapsed": true
   },
   "outputs": [],
   "source": [
    "# Detect Plate number from image\n",
    "# from IPython.display import display\n",
    "import cv2\n",
    "\n",
    "filename = '1'\n",
    "\n",
    "#load the image\n",
    "image = cv2.imread(\"platenums/\"+filename+\".jpg\")\n",
    "cv2.imshow('image',image)"
   ]
  },
  {
   "cell_type": "code",
   "execution_count": null,
   "outputs": [],
   "source": [
    "#convert the image to grayscale\n",
    "grayscale_image = cv2.cvtColor(image, cv2.COLOR_BGR2GRAY)\n",
    "display(grayscale_image)"
   ],
   "metadata": {
    "collapsed": false
   },
   "id": "860aa35e49c080f2"
  },
  {
   "cell_type": "code",
   "execution_count": null,
   "outputs": [],
   "source": [
    "# apply a gaussian blur to the image\n",
    "blurred_image = cv2.GaussianBlur(grayscale_image, (5,5),0)\n",
    "cv2.imshow(\"Blurred Image\", blurred_image)"
   ],
   "metadata": {
    "collapsed": false
   },
   "id": "90032f905b6d6bb"
  },
  {
   "cell_type": "code",
   "execution_count": null,
   "outputs": [],
   "source": [
    "# threshold the image\n",
    "thresholded_image = cv2.threshold(blurred_image,0,255,cv2.THRESH_BINARY_INV+cv2.THRESH_OTSU)[1]\n",
    "cv2.imshow(\"Thresholded Image\", thresholded_image)"
   ],
   "metadata": {
    "collapsed": false
   },
   "id": "8d7f7186edacb0f2"
  },
  {
   "cell_type": "code",
   "execution_count": null,
   "outputs": [],
   "source": [
    "# find contours in the image\n",
    "contours = cv2.findContours(thresholded_image, cv2.RETR_EXTERNAL, cv2.CHAIN_APPROX_SIMPLE)[0]"
   ],
   "metadata": {
    "collapsed": false
   },
   "id": "d1db83f126e8c1c2"
  },
  {
   "cell_type": "code",
   "execution_count": null,
   "outputs": [],
   "source": [
    "# filter the contours to identify the number plate\n",
    "number_plate_contours = []\n",
    "\n",
    "for contour in contours:\n",
    "    # calculate the bounding box of the container\n",
    "    x,y,w,h = cv2.boundingRect(contour)\n",
    "    \n",
    "    # filter out contours that are too small or too large\n",
    "    # if w<100 or w > 500 or h < 50 or h > 200:\n",
    "    #     continue\n",
    "    # Filter out contours that are not located in the bottom half of the image\n",
    "    # if y + h < image.shape[0] * 0.5:\n",
    "    #     continue    \n",
    "    \n",
    "    # assign the number plate contour\n",
    "    number_plate_contour.append(contour)"
   ],
   "metadata": {
    "collapsed": false
   },
   "id": "c061ee0b60803923"
  },
  {
   "cell_type": "code",
   "execution_count": null,
   "outputs": [],
   "source": [
    "# extract the number plate sections from the image\n",
    "number_plate_sections = []\n",
    "if len(number_plate_contour) is not 0:\n",
    "    # crop the image to the bounding box of the number plate\n",
    "    number_plate_image = image[y:y+h,x:x+w]\n",
    "    \n",
    "    # split the number plate image into equal sections\n",
    "    number_plate_sections = cv2.split(number_plate_image)"
   ],
   "metadata": {
    "collapsed": false
   },
   "id": "69ba303490cfe40c"
  },
  {
   "cell_type": "code",
   "execution_count": null,
   "outputs": [],
   "source": [
    "# Save the number plate sections\n",
    "for i,section in enumerate(number_plate_sections):\n",
    "    cv2.imwrite(\"outputs/{}-{}.jpg\".format(filename,i),section)"
   ],
   "metadata": {
    "collapsed": false
   },
   "id": "fdec71d9dff6df7e"
  }
 ],
 "metadata": {
  "kernelspec": {
   "display_name": "Python 3",
   "language": "python",
   "name": "python3"
  },
  "language_info": {
   "codemirror_mode": {
    "name": "ipython",
    "version": 2
   },
   "file_extension": ".py",
   "mimetype": "text/x-python",
   "name": "python",
   "nbconvert_exporter": "python",
   "pygments_lexer": "ipython2",
   "version": "2.7.6"
  }
 },
 "nbformat": 4,
 "nbformat_minor": 5
}
